{
 "cells": [
  {
   "cell_type": "code",
   "execution_count": 1,
   "id": "e20557bb-2c18-4db8-a388-5c74b071d2ea",
   "metadata": {},
   "outputs": [],
   "source": [
    "# Step 1: Import Required Libraries\n",
    "import os\n",
    "import random\n",
    "import time\n",
    "import pybullet as p\n",
    "import pybullet_data\n",
    "import tensorflow as tf\n",
    "from tensorflow.keras import layers, models\n",
    "from tensorflow.keras.preprocessing import image\n",
    "from PIL import Image\n",
    "import numpy as np\n"
   ]
  },
  {
   "cell_type": "code",
   "execution_count": 2,
   "id": "dc0455df-8934-44d4-addb-748791beda06",
   "metadata": {},
   "outputs": [
    {
     "name": "stdout",
     "output_type": "stream",
     "text": [
      "All files converted.\n"
     ]
    }
   ],
   "source": [
    "# Step 2: Convert All Images to JPEG Format\n",
    "folder_path = 'D:\\WasteSortingRobo'\n",
    "\n",
    "# Loop through all files and convert to JPEG\n",
    "for filename in os.listdir(folder_path):\n",
    "    if filename.lower().endswith(('.png', '.bmp', '.tiff', '.jpeg', '.jpg')):\n",
    "        file_path = os.path.join(folder_path, filename)\n",
    "\n",
    "      \n",
    "        with Image.open(file_path) as img:\n",
    "            img = img.convert(\"RGB\")\n",
    "\n",
    "            # Save the file in JPEG format\n",
    "            base_filename = os.path.splitext(filename)[0]\n",
    "            new_file_path = os.path.join(folder_path, base_filename + \".jpeg\")\n",
    "            img.save(new_file_path, \"JPEG\")\n",
    "\n",
    "        print(f\"Converted {filename} to JPEG.\")\n",
    "\n",
    "print(\"All files converted into JPEG.\")\n"
   ]
  },
  {
   "cell_type": "code",
   "execution_count": 4,
   "id": "7ba00f43-34ca-4cd7-a1dc-5c932df415b1",
   "metadata": {
    "scrolled": true
   },
   "outputs": [
    {
     "data": {
      "text/plain": [
       "'# Step 3: Clean and Verify the Dataset\\n\\n# Define allowed image extensions\\nallowed_extensions = {\\'.jpg\\', \\'.jpeg\\', \\'.png\\', \\'.bmp\\', \\'.gif\\'}\\n\\n# Function to verify and clean the dataset\\ndef filter_and_verify_image(filepath):\\n    ext = os.path.splitext(filepath)[1].lower()\\n    \\n    if ext not in allowed_extensions:\\n        return False\\n\\n    try:\\n        img = Image.open(filepath)\\n        img.verify()  \\n        return True\\n    except (IOError, SyntaxError):\\n        print(f\"Invalid image found: {filepath}\")\\n        return False\\n\\n# Clean the dataset by removing invalid images\\ndata_dir = \\'D:\\\\WasteSortingRobo\\'\\nfor root, dirs, files in os.walk(data_dir):\\n    for file in files:\\n        filepath = os.path.join(root, file)\\n        if not filter_and_verify_image(filepath):\\n            print(f\"Removing invalid file: {filepath}\")\\n            os.remove(filepath)'"
      ]
     },
     "execution_count": 4,
     "metadata": {},
     "output_type": "execute_result"
    }
   ],
   "source": [
    "'''# Step 3: Clean and Verify the Dataset\n",
    "\n",
    "# Define allowed image extensions\n",
    "allowed_extensions = {'.jpg', '.jpeg', '.png', '.bmp', '.gif'}\n",
    "\n",
    "# Function to verify and clean the dataset\n",
    "def filter_and_verify_image(filepath):\n",
    "    ext = os.path.splitext(filepath)[1].lower()\n",
    "    \n",
    "    if ext not in allowed_extensions:\n",
    "        return False\n",
    "\n",
    "    try:\n",
    "        img = Image.open(filepath)\n",
    "        img.verify()  \n",
    "        return True\n",
    "    except (IOError, SyntaxError):\n",
    "        print(f\"Invalid image found: {filepath}\")\n",
    "        return False\n",
    "\n",
    "# Clean the dataset by removing invalid images\n",
    "data_dir = 'D:\\WasteSortingRobo'\n",
    "for root, dirs, files in os.walk(data_dir):\n",
    "    for file in files:\n",
    "        filepath = os.path.join(root, file)\n",
    "        if not filter_and_verify_image(filepath):\n",
    "            print(f\"Removing invalid file: {filepath}\")\n",
    "            os.remove(filepath)'''"
   ]
  },
  {
   "cell_type": "code",
   "execution_count": 5,
   "id": "c4d11250-2cb0-41df-a8d6-b9a3af56fedd",
   "metadata": {},
   "outputs": [
    {
     "name": "stdout",
     "output_type": "stream",
     "text": [
      "Found 15 images belonging to 4 classes.\n",
      "Found 3 images belonging to 4 classes.\n",
      "{'Plasticbottles': 0, 'Plasticcovers': 1, 'Plasticcups': 2, 'Tincans': 3}\n",
      "Epoch 1/30\n",
      "1/1 [==============================] - 2s 2s/step - loss: 1.3863 - accuracy: 0.1333 - val_loss: 1.3775 - val_accuracy: 0.6667\n",
      "Epoch 2/30\n",
      "1/1 [==============================] - 0s 222ms/step - loss: 1.3780 - accuracy: 0.6667 - val_loss: 1.3534 - val_accuracy: 0.6667\n",
      "Epoch 3/30\n",
      "1/1 [==============================] - 0s 233ms/step - loss: 1.3555 - accuracy: 0.6667 - val_loss: 1.3097 - val_accuracy: 0.6667\n",
      "Epoch 4/30\n",
      "1/1 [==============================] - 0s 237ms/step - loss: 1.3148 - accuracy: 0.6667 - val_loss: 1.2379 - val_accuracy: 0.6667\n",
      "Epoch 5/30\n",
      "1/1 [==============================] - 0s 203ms/step - loss: 1.2481 - accuracy: 0.6667 - val_loss: 1.1326 - val_accuracy: 0.6667\n",
      "Epoch 6/30\n",
      "1/1 [==============================] - 0s 218ms/step - loss: 1.1510 - accuracy: 0.6667 - val_loss: 0.9982 - val_accuracy: 0.6667\n",
      "Epoch 7/30\n",
      "1/1 [==============================] - 0s 230ms/step - loss: 1.0294 - accuracy: 0.6667 - val_loss: 0.8629 - val_accuracy: 0.6667\n",
      "Epoch 8/30\n",
      "1/1 [==============================] - 0s 216ms/step - loss: 0.9132 - accuracy: 0.6667 - val_loss: 0.7891 - val_accuracy: 0.6667\n",
      "Epoch 9/30\n",
      "1/1 [==============================] - 0s 214ms/step - loss: 0.8682 - accuracy: 0.6667 - val_loss: 0.7959 - val_accuracy: 0.6667\n",
      "Epoch 10/30\n",
      "1/1 [==============================] - 0s 225ms/step - loss: 0.9125 - accuracy: 0.6667 - val_loss: 0.7796 - val_accuracy: 0.6667\n",
      "Epoch 11/30\n",
      "1/1 [==============================] - 0s 216ms/step - loss: 0.9255 - accuracy: 0.6667 - val_loss: 0.7263 - val_accuracy: 0.6667\n",
      "Epoch 12/30\n",
      "1/1 [==============================] - 0s 236ms/step - loss: 0.8890 - accuracy: 0.6667 - val_loss: 0.6797 - val_accuracy: 0.6667\n",
      "Epoch 13/30\n",
      "1/1 [==============================] - 0s 210ms/step - loss: 0.8492 - accuracy: 0.6667 - val_loss: 0.6652 - val_accuracy: 0.6667\n",
      "Epoch 14/30\n",
      "1/1 [==============================] - 0s 214ms/step - loss: 0.8339 - accuracy: 0.6667 - val_loss: 0.6797 - val_accuracy: 0.6667\n",
      "Epoch 15/30\n",
      "1/1 [==============================] - 0s 232ms/step - loss: 0.8423 - accuracy: 0.6667 - val_loss: 0.7016 - val_accuracy: 0.6667\n",
      "Epoch 16/30\n",
      "1/1 [==============================] - 0s 222ms/step - loss: 0.8544 - accuracy: 0.6667 - val_loss: 0.7174 - val_accuracy: 0.6667\n",
      "Epoch 17/30\n",
      "1/1 [==============================] - 0s 216ms/step - loss: 0.8588 - accuracy: 0.6667 - val_loss: 0.7243 - val_accuracy: 0.6667\n",
      "Epoch 18/30\n",
      "1/1 [==============================] - 0s 197ms/step - loss: 0.8543 - accuracy: 0.6667 - val_loss: 0.7240 - val_accuracy: 0.6667\n",
      "Epoch 19/30\n",
      "1/1 [==============================] - 0s 234ms/step - loss: 0.8439 - accuracy: 0.6667 - val_loss: 0.7188 - val_accuracy: 0.6667\n",
      "Epoch 20/30\n",
      "1/1 [==============================] - 0s 211ms/step - loss: 0.8308 - accuracy: 0.6667 - val_loss: 0.7120 - val_accuracy: 0.6667\n",
      "Epoch 21/30\n",
      "1/1 [==============================] - 0s 229ms/step - loss: 0.8178 - accuracy: 0.6667 - val_loss: 0.7069 - val_accuracy: 0.6667\n",
      "Epoch 22/30\n",
      "1/1 [==============================] - 0s 180ms/step - loss: 0.8079 - accuracy: 0.6667 - val_loss: 0.7065 - val_accuracy: 0.6667\n",
      "Epoch 23/30\n",
      "1/1 [==============================] - 0s 226ms/step - loss: 0.8036 - accuracy: 0.6667 - val_loss: 0.7114 - val_accuracy: 0.6667\n",
      "Epoch 24/30\n",
      "1/1 [==============================] - 0s 235ms/step - loss: 0.8054 - accuracy: 0.6667 - val_loss: 0.7195 - val_accuracy: 0.6667\n",
      "Epoch 25/30\n",
      "1/1 [==============================] - 0s 219ms/step - loss: 0.8108 - accuracy: 0.6667 - val_loss: 0.7265 - val_accuracy: 0.6667\n",
      "Epoch 26/30\n",
      "1/1 [==============================] - 0s 208ms/step - loss: 0.8154 - accuracy: 0.6667 - val_loss: 0.7291 - val_accuracy: 0.6667\n",
      "Epoch 27/30\n",
      "1/1 [==============================] - 0s 227ms/step - loss: 0.8155 - accuracy: 0.6667 - val_loss: 0.7275 - val_accuracy: 0.6667\n",
      "Epoch 28/30\n",
      "1/1 [==============================] - 0s 203ms/step - loss: 0.8113 - accuracy: 0.6667 - val_loss: 0.7243 - val_accuracy: 0.6667\n",
      "Epoch 29/30\n",
      "1/1 [==============================] - 0s 234ms/step - loss: 0.8055 - accuracy: 0.6667 - val_loss: 0.7220 - val_accuracy: 0.6667\n",
      "Epoch 30/30\n",
      "1/1 [==============================] - 0s 238ms/step - loss: 0.8010 - accuracy: 0.6667 - val_loss: 0.7215 - val_accuracy: 0.6667\n"
     ]
    }
   ],
   "source": [
    "# Step 4: Build and Train the Convolutional Neural Network (CNN) Model\n",
    "\n",
    "# Load the dataset using ImageDataGenerator\n",
    "datagen = tf.keras.preprocessing.image.ImageDataGenerator(\n",
    "    rescale=1./255,\n",
    "    validation_split=0.2  \n",
    ")\n",
    "\n",
    "train_generator = datagen.flow_from_directory(\n",
    "    data_dir,\n",
    "    target_size=(64, 64),\n",
    "    batch_size=32,\n",
    "    class_mode='sparse',\n",
    "    subset='training'\n",
    ")\n",
    "\n",
    "val_generator = datagen.flow_from_directory(\n",
    "    data_dir,\n",
    "    target_size=(64, 64),\n",
    "    batch_size=32,\n",
    "    class_mode='sparse',\n",
    "    subset='validation'\n",
    ")\n",
    "\n",
    "#Outputting how tensorflow interprets the folder names\n",
    "print(train_generator.class_indices)\n",
    "\n",
    "# Define a simple CNN model for waste classification\n",
    "model = models.Sequential([\n",
    "    layers.Rescaling(1./255, input_shape=(64, 64, 3)),  \n",
    "    layers.Conv2D(32, (3, 3), activation='relu'),\n",
    "    layers.MaxPooling2D((2, 2)),\n",
    "    layers.Conv2D(64, (3, 3), activation='relu'),\n",
    "    layers.MaxPooling2D((2, 2)),\n",
    "    layers.Conv2D(128, (3, 3), activation='relu'),\n",
    "    layers.MaxPooling2D((2, 2)),\n",
    "    layers.Flatten(),\n",
    "    layers.Dense(128, activation='relu'),\n",
    "    layers.Dense(len(train_generator.class_indices), activation='softmax')  \n",
    "])\n",
    "\n",
    "# Compile the model\n",
    "model.compile(optimizer='adam',\n",
    "              loss='sparse_categorical_crossentropy',\n",
    "              metrics=['accuracy'])\n",
    "\n",
    "# Train the model\n",
    "history = model.fit(\n",
    "    train_generator,\n",
    "    validation_data=val_generator,\n",
    "    epochs=30  \n",
    ")"
   ]
  },
  {
   "cell_type": "code",
   "execution_count": 7,
   "id": "91b6fc39-a091-4a30-b823-536952144537",
   "metadata": {},
   "outputs": [
    {
     "ename": "error",
     "evalue": "Not connected to physics server.",
     "output_type": "error",
     "traceback": [
      "\u001b[1;31m---------------------------------------------------------------------------\u001b[0m",
      "\u001b[1;31merror\u001b[0m                                     Traceback (most recent call last)",
      "Cell \u001b[1;32mIn[7], line 18\u001b[0m\n\u001b[0;32m     16\u001b[0m \u001b[38;5;66;03m# Run the simulation loop\u001b[39;00m\n\u001b[0;32m     17\u001b[0m \u001b[38;5;28;01mfor\u001b[39;00m _ \u001b[38;5;129;01min\u001b[39;00m \u001b[38;5;28mrange\u001b[39m(\u001b[38;5;241m10000\u001b[39m):\n\u001b[1;32m---> 18\u001b[0m     \u001b[43mp\u001b[49m\u001b[38;5;241;43m.\u001b[39;49m\u001b[43mstepSimulation\u001b[49m\u001b[43m(\u001b[49m\u001b[43m)\u001b[49m\n\u001b[0;32m     19\u001b[0m     time\u001b[38;5;241m.\u001b[39msleep(\u001b[38;5;241m1.\u001b[39m\u001b[38;5;241m/\u001b[39m\u001b[38;5;241m240.\u001b[39m)\n",
      "\u001b[1;31merror\u001b[0m: Not connected to physics server."
     ]
    }
   ],
   "source": [
    "# Step 5: PyBullet Simulation for Waste Sorting\n",
    "\n",
    "# Connect to PyBullet simulation\n",
    "physicsClient = p.connect(p.GUI)\n",
    "p.setAdditionalSearchPath(pybullet_data.getDataPath())\n",
    "p.loadURDF(\"plane.urdf\")  \n",
    "p.setGravity(0, 0, -9.8)  \n",
    "\n",
    "# Load the robot model (using KUKA iiwa arm as an example)\n",
    "robot_id = p.loadURDF(\"kuka_iiwa/model.urdf\", useFixedBase=True)\n",
    "\n",
    "# Define object positions and load objects (e.g., for bottles and cans)\n",
    "object_id_1 = p.loadURDF(\"sphere2.urdf\", [0, 0, 1], globalScaling=0.5)  \n",
    "object_id_2 = p.loadURDF(\"cube.urdf\", [1, 0, 1], globalScaling=0.3)  \n",
    "\n",
    "# Run the simulation loop\n",
    "for _ in range(10000):\n",
    "    p.stepSimulation()\n",
    "    time.sleep(1./240.)"
   ]
  },
  {
   "cell_type": "code",
   "execution_count": null,
   "id": "375c9e16-c070-4fff-8dae-73eed940966e",
   "metadata": {},
   "outputs": [],
   "source": []
  },
  {
   "cell_type": "code",
   "execution_count": null,
   "id": "8cdac363-bc49-4e57-bd17-a6baaddd2c02",
   "metadata": {},
   "outputs": [],
   "source": [
    "# Step 6: Clean up PyBullet\n",
    "p.disconnect()\n",
    "\n",
    "# Save and load the trained model\n",
    "model.save('waste_sorting_model.h5')"
   ]
  }
 ],
 "metadata": {
  "kernelspec": {
   "display_name": "Python 3 (ipykernel)",
   "language": "python",
   "name": "python3"
  },
  "language_info": {
   "codemirror_mode": {
    "name": "ipython",
    "version": 3
   },
   "file_extension": ".py",
   "mimetype": "text/x-python",
   "name": "python",
   "nbconvert_exporter": "python",
   "pygments_lexer": "ipython3",
   "version": "3.8.2"
  }
 },
 "nbformat": 4,
 "nbformat_minor": 5
}
